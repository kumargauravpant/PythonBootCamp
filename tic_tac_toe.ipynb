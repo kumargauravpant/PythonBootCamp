{
 "cells": [
  {
   "cell_type": "code",
   "execution_count": 14,
   "metadata": {},
   "outputs": [],
   "source": [
    "player = {'player1' : {'name':'', 'choice':'', 'score': 0}, 'player2' : {'name':'', 'choice':'', 'score': 0}}\n",
    "selection = ''"
   ]
  },
  {
   "cell_type": "code",
   "execution_count": 15,
   "metadata": {},
   "outputs": [],
   "source": [
    "def set_up_players(player) :\n",
    "    \n",
    "    global selection\n",
    "    name =  input(f'Enter your name : ')\n",
    "    player['name'] = name\n",
    "    if selection == '' :\n",
    "        choice = input(f\"{name} : Enter your choice 'X' or 'O' : \")\n",
    "        selection = choice\n",
    "        player['choice'] = selection\n",
    "    else :\n",
    "        if selection == 'X' :\n",
    "            player['choice'] = 'O'\n",
    "        else :\n",
    "            player['choice'] = 'X'\n",
    "        \n",
    "        print('{} you are : {}'.format(name, player['choice']))\n",
    "    "
   ]
  },
  {
   "cell_type": "code",
   "execution_count": 27,
   "metadata": {},
   "outputs": [],
   "source": [
    "from IPython.display import clear_output\n",
    "\n",
    "def print_board(board) :\n",
    "    clear_output()\n",
    "    print ('    |     |   ')\n",
    "    print ('  {} |  {}  |   {}  '.format(board[6],board[7],board[8],))\n",
    "    print ('    |     |     ')\n",
    "    print ('-----------------')\n",
    "    print ('    |     |   ')\n",
    "    print ('  {} |  {}  |   {}  '.format(board[3],board[4],board[5],))\n",
    "    print ('    |     |     ')\n",
    "    print ('-----------------')\n",
    "    print ('    |     |   ')\n",
    "    print ('  {} |  {}  |   {}  '.format(board[0],board[1],board[2],))\n",
    "    print ('    |     |     ')"
   ]
  },
  {
   "cell_type": "code",
   "execution_count": 29,
   "metadata": {},
   "outputs": [],
   "source": [
    "def play_game(player, board) :\n",
    "    \n",
    "    global result\n",
    "    choice = player['choice']\n",
    "    move = int(input('{} Enter your choice (1-9): '.format(player['name'])))\n",
    "    if game_grid[move-1] == ' ' :\n",
    "        game_grid[move-1] = choice\n",
    "        print_board(board)\n",
    "\n",
    "        if check_result(choice) :\n",
    "            result = True\n",
    "            \n",
    "    else :\n",
    "        print ('Wrong position selected. Please try again')\n",
    "        play_game(player, board)\n",
    "    "
   ]
  },
  {
   "cell_type": "code",
   "execution_count": 18,
   "metadata": {},
   "outputs": [],
   "source": [
    "def check_result(choice) :\n",
    "    choice_list = [choice] * 3\n",
    "    if game_grid[0:3:1] == choice_list or game_grid[3:6:1] == choice_list or game_grid[6::1] == choice_list  or game_grid[0:7:3] == choice_list or game_grid[1:8:3] == choice_list or game_grid[2::3] ==  choice_list or game_grid[2:7:2] == choice_list or game_grid[0::4] == choice_list :\n",
    "        return True"
   ]
  },
  {
   "cell_type": "code",
   "execution_count": 19,
   "metadata": {},
   "outputs": [
    {
     "name": "stdout",
     "output_type": "stream",
     "text": [
      "Enter your name : Rekha\n",
      "Rekha : Enter your choice 'X' or 'O' : X\n",
      "Enter your name : Gaurav\n",
      "Gaurav you are : O\n"
     ]
    }
   ],
   "source": [
    "for s in player :\n",
    "    set_up_players(player[s])\n",
    "    \n",
    "    "
   ]
  },
  {
   "cell_type": "code",
   "execution_count": 30,
   "metadata": {},
   "outputs": [],
   "source": [
    "game_grid = list(\" \" for x in range(0,9))\n",
    "result = False"
   ]
  },
  {
   "cell_type": "code",
   "execution_count": 31,
   "metadata": {},
   "outputs": [
    {
     "name": "stdout",
     "output_type": "stream",
     "text": [
      "    |     |   \n",
      "  X |     |      \n",
      "    |     |     \n",
      "-----------------\n",
      "    |     |   \n",
      "  O |  X  |   O  \n",
      "    |     |     \n",
      "-----------------\n",
      "    |     |   \n",
      "  X |  O  |   X  \n",
      "    |     |     \n",
      "Rekha has won the game\n"
     ]
    }
   ],
   "source": [
    "\n",
    "\n",
    "win = False\n",
    "while(not win) :\n",
    "    \n",
    "    for s in player :\n",
    "        play_game(player[s], game_grid)\n",
    "        \n",
    "        if result :\n",
    "            print ('{} has won the game'.format(player[s]['name']))\n",
    "            win = True\n",
    "            break\n",
    "        \n",
    "        elif \" \" not in game_grid :\n",
    "            print ('It is a tie.')\n",
    "            win = True\n",
    "            break\n",
    "        \n",
    "    \n",
    "    \n",
    "    \n",
    "\n"
   ]
  },
  {
   "cell_type": "code",
   "execution_count": null,
   "metadata": {},
   "outputs": [],
   "source": []
  },
  {
   "cell_type": "code",
   "execution_count": null,
   "metadata": {},
   "outputs": [],
   "source": []
  }
 ],
 "metadata": {
  "kernelspec": {
   "display_name": "Python 3",
   "language": "python",
   "name": "python3"
  },
  "language_info": {
   "codemirror_mode": {
    "name": "ipython",
    "version": 3
   },
   "file_extension": ".py",
   "mimetype": "text/x-python",
   "name": "python",
   "nbconvert_exporter": "python",
   "pygments_lexer": "ipython3",
   "version": "3.7.6"
  }
 },
 "nbformat": 4,
 "nbformat_minor": 4
}
